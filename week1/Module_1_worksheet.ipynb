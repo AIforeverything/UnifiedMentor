{
  "cells": [
    {
      "cell_type": "markdown",
      "metadata": {
        "id": "MkoDbq-9W6Fd"
      },
      "source": [
        "# Vectors using Numpy"
      ]
    },
    {
      "cell_type": "markdown",
      "metadata": {
        "id": "ExU43HLnXBiU"
      },
      "source": [
        "#### **What is Numpy?**\n",
        "NumPy is the fundamental package for scientific computing in Python. It is a Python library that provides a multidimensional array object, various derived objects (such as masked arrays and matrices), and an assortment of routines for fast operations on arrays, including mathematical, logical, shape manipulation, sorting, selecting, I/O, discrete Fourier transforms, basic linear algebra, basic statistical operations, random simulation and much more.\n",
        "\n",
        "There are several important differences between NumPy arrays and the standard Python sequences(lists):\n",
        "\n",
        "*   NumPy arrays have a fixed size at creation, unlike Python lists (which can grow dynamically). Changing the size of an ndarray will create a new array and delete the original.\n",
        "*   The elements in a NumPy array are all required to be of the same data type, and thus will be the same size in memory. The exception: one can have arrays of (Python, including NumPy) objects, thereby allowing for arrays of different sized elements.\n",
        "*    NumPy arrays facilitate advanced mathematical and other types of operations on large numbers of data. Typically, such operations are executed more efficiently and with less code than is possible using Python’s built-in sequences.\n",
        "*    A growing plethora of scientific and mathematical Python-based packages are using NumPy arrays; though these typically support Python-sequence input, they convert such input to NumPy arrays prior to processing, and they often output NumPy arrays. Numpy is preferred due to its performance in computation.\n",
        "\n"
      ]
    },
    {
      "cell_type": "code",
      "execution_count": 1,
      "metadata": {
        "id": "3jwUcdXDXqKQ"
      },
      "outputs": [],
      "source": [
        "# Lets Import Numpy\n",
        "import numpy as np"
      ]
    },
    {
      "cell_type": "code",
      "execution_count": 2,
      "metadata": {
        "id": "qnb4q6weYHJs"
      },
      "outputs": [
        {
          "name": "stdout",
          "output_type": "stream",
          "text": [
            "[1 2 3 4] int64\n",
            "[1.1 2.6 7.8 9.2] float64\n"
          ]
        }
      ],
      "source": [
        "# TASK: Define Numpy arrays with names: n1, n2\n",
        "# Reference: https://numpy.org/doc/stable/user/quickstart.html#array-creation\n",
        "\n",
        "# Your Code:\n",
        "n1=np.array([1,2,3,4])\n",
        "n2=np.array([1.1,2.6,7.8,9.2])\n",
        "\n",
        "\n",
        "\n",
        "print(n1,n1.dtype)\n",
        "print(n2,n2.dtype)"
      ]
    },
    {
      "cell_type": "code",
      "execution_count": 4,
      "metadata": {},
      "outputs": [
        {
          "data": {
            "text/plain": [
              "(4,)"
            ]
          },
          "execution_count": 4,
          "metadata": {},
          "output_type": "execute_result"
        }
      ],
      "source": [
        "n1.shape"
      ]
    },
    {
      "cell_type": "code",
      "execution_count": 10,
      "metadata": {
        "id": "X9QwNVT2Yd8I"
      },
      "outputs": [
        {
          "name": "stdout",
          "output_type": "stream",
          "text": [
            "[22 33 44] (3,)\n"
          ]
        }
      ],
      "source": [
        "# TASK: Redefine n1 as a vector/array with the values 22,33,44 and order of the vector as 1x3\n",
        "\n",
        "# Your Code:\n",
        "n1=np.array([22,33,44])\n",
        "n1.reshape(1,3)\n",
        "\n",
        "\n",
        "\n",
        "print(n1,n1.shape)"
      ]
    },
    {
      "cell_type": "markdown",
      "metadata": {
        "id": "3dHQ9ItHaQjk"
      },
      "source": [
        "#### Addition\n",
        "\n",
        "Adding numpy vectors is as simple as performing regular addition in Python."
      ]
    },
    {
      "cell_type": "code",
      "execution_count": 11,
      "metadata": {
        "id": "WKU9pUMpY2t5"
      },
      "outputs": [
        {
          "data": {
            "text/plain": [
              "array([24, 35, 46])"
            ]
          },
          "execution_count": 11,
          "metadata": {},
          "output_type": "execute_result"
        }
      ],
      "source": [
        "# TASK: Add vector [2, 2, 2] with n1 from earlier\n",
        "\n",
        "# Your Code:\n",
        "n1+([2,2,2])\n",
        "\n",
        "\n",
        "\n",
        "# Expected output: [24, 35, 46]"
      ]
    },
    {
      "cell_type": "markdown",
      "metadata": {
        "id": "qGmma2jfbEzr"
      },
      "source": [
        "#### Subtraction\n",
        "\n",
        "Subtracting numpy vectors is also as simple as performing regular subtraction in Python"
      ]
    },
    {
      "cell_type": "code",
      "execution_count": 12,
      "metadata": {
        "id": "_Pmm06fpZEka"
      },
      "outputs": [
        {
          "data": {
            "text/plain": [
              "array([20, 30, 40])"
            ]
          },
          "execution_count": 12,
          "metadata": {},
          "output_type": "execute_result"
        }
      ],
      "source": [
        "# TASK: Subtract vector [2, 3, 4] with n1 from earlier\n",
        "\n",
        "# Your Code:\n",
        "n1-[2, 3, 4]\n",
        "\n",
        "\n",
        "\n",
        "# Expected output: [20, 30, 40]"
      ]
    },
    {
      "cell_type": "markdown",
      "metadata": {
        "id": "YKJ31IVsbcYv"
      },
      "source": [
        "#### Scalar Multiplication/ Element-wise multiplication\n",
        "\n",
        "This is also very easy to perform. Regular Python is enough or numpy also comes with functions to perform the same\n",
        "\n",
        "https://numpy.org/doc/stable/reference/generated/numpy.multiply.html#numpy-multiply\n"
      ]
    },
    {
      "cell_type": "code",
      "execution_count": 13,
      "metadata": {
        "id": "jVcu1QS8bZHu"
      },
      "outputs": [
        {
          "data": {
            "text/plain": [
              "array([ 550,  825, 1100])"
            ]
          },
          "execution_count": 13,
          "metadata": {},
          "output_type": "execute_result"
        }
      ],
      "source": [
        "# TASK: Multiply n1 with 25\n",
        "\n",
        "# Your Code:\n",
        "n1*25\n",
        "\n",
        "\n",
        "\n",
        "# Expected output: [550,  825, 1100]"
      ]
    },
    {
      "cell_type": "code",
      "execution_count": 14,
      "metadata": {
        "id": "1-UuqETKbT-I"
      },
      "outputs": [
        {
          "data": {
            "text/plain": [
              "array([242, 396, 572])"
            ]
          },
          "execution_count": 14,
          "metadata": {},
          "output_type": "execute_result"
        }
      ],
      "source": [
        "# TASK: perform element-wise multiplication of n1 and [11, 12, 13]. Use numpy's multiply function\n",
        "\n",
        "# Your Code:\n",
        "np.multiply(n1,[11, 12, 13])\n",
        "\n",
        "\n",
        "\n",
        "# Expected output: [242, 396, 572]"
      ]
    },
    {
      "cell_type": "markdown",
      "metadata": {
        "id": "jU9xLGMerO9c"
      },
      "source": [
        "#### Vector Multiplication\n",
        "\n",
        "Vector multiplication, or also called dot product of vectors/matrices. Numpy has functions to perform the same\n",
        "\n",
        "https://numpy.org/doc/stable/reference/generated/numpy.dot.html#numpy-dot\n",
        "https://numpy.org/doc/stable/reference/generated/numpy.reshape.html#numpy-reshape\n",
        "\n",
        "note: numpy functions also carry additional features for certain scenarios of inputs. The reference mentions all of them, we will be looking only at our required case here."
      ]
    },
    {
      "cell_type": "code",
      "execution_count": 83,
      "metadata": {
        "id": "7qptpnxFcM4e"
      },
      "outputs": [
        {
          "name": "stdout",
          "output_type": "stream",
          "text": [
            "[[22]\n",
            " [33]\n",
            " [44]]\n"
          ]
        },
        {
          "data": {
            "text/plain": [
              "array([[ 66,  66,  66,  66],\n",
              "       [ 99,  99,  99,  99],\n",
              "       [132, 132, 132, 132]])"
            ]
          },
          "execution_count": 83,
          "metadata": {},
          "output_type": "execute_result"
        }
      ],
      "source": [
        "# TASK: perform vector multiplication of n1 (use numpy reshape:- set order as 3 x 1) and a vector of only 3's, and of order/dimension 1 x 4\n",
        "\n",
        "# Your Code:\n",
        "print(n1.reshape(3,1))\n",
        "# (n1.reshape(3,1)).dot(np.array([3,3,3,3]).reshape(1,4))\n",
        "\n",
        "np.dot(n1.reshape(3,1),np.array([[3,3,3,3]]))\n",
        "\n",
        "\n",
        "# Expected Output:\n",
        "# [[ 66,  66,  66,  66],\n",
        "#  [ 99,  99,  99,  99],\n",
        "#  [132, 132, 132, 132]]"
      ]
    },
    {
      "cell_type": "code",
      "execution_count": 85,
      "metadata": {
        "id": "lpnppkLqs4Oq"
      },
      "outputs": [
        {
          "name": "stdout",
          "output_type": "stream",
          "text": [
            "[22 33 44]\n"
          ]
        },
        {
          "data": {
            "text/plain": [
              "np.int64(3509)"
            ]
          },
          "execution_count": 85,
          "metadata": {},
          "output_type": "execute_result"
        }
      ],
      "source": [
        "# TASK: perform vector multiplication of n1 and transpose of n1. Use numpy techniques for transpose\n",
        "\n",
        "# Your Code:\n",
        "print(n1.transpose())\n",
        "# print(n1.dot(n1.transpose()))\n",
        "np.dot(n1,n1.T)\n",
        "\n",
        "# Expected output: 3059"
      ]
    },
    {
      "cell_type": "code",
      "execution_count": 86,
      "metadata": {
        "id": "gkjYZygrs-Va"
      },
      "outputs": [
        {
          "name": "stdout",
          "output_type": "stream",
          "text": [
            "[2, 3, 5, 7, 11, 13, 17, 19, 23]\n",
            "[[ 2  3  5]\n",
            " [ 7 11 13]\n",
            " [17 19 23]]\n",
            "[[-0.07692308 -0.33333333  0.20512821]\n",
            " [-0.76923077  0.5        -0.11538462]\n",
            " [ 0.69230769 -0.16666667 -0.01282051]]\n",
            "[[ 1.  0. -0.]\n",
            " [ 0.  1. -0.]\n",
            " [ 0.  0.  1.]]\n"
          ]
        }
      ],
      "source": [
        "# TASK: Initialize a vector (v1) with prime numbers 1 to 23, with order 3x3. Initialize a vector (v2) as inverse of v1.\n",
        "# Perform vector multiplication of both and get identityu matrix. Use numpy rounding methods if needed\n",
        "# https://numpy.org/doc/stable/reference/generated/numpy.linalg.inv.html#numpy-linalg-inv\n",
        "# https://numpy.org/doc/stable/reference/generated/numpy.round.html#numpy-round\n",
        "\n",
        "# Your Code:\n",
        "p=[]\n",
        "def primeNumber(n):\n",
        "    for i in range(2,n+1):\n",
        "        if i==2 or i==3:\n",
        "            p.append(i)\n",
        "        for j in range(2,int(n**0.5)+1):\n",
        "            if i%j==0:\n",
        "                break\n",
        "        else: \n",
        "            p.append(i)\n",
        "primeNumber(23)\n",
        "print(p)\n",
        "\n",
        "p1=np.array(p).reshape(3,3)\n",
        "print(p1)\n",
        "p1_inverse=np.linalg.inv(p1)\n",
        "print(p1_inverse)\n",
        "print((p1.dot(p1_inverse)).round())\n",
        "\n",
        "# Expected output (with or without signs both is ok):\n",
        "# [[ 1., -0.,  0.],\n",
        "#  [ 0.,  1.,  0.],\n",
        "#  [-0., -0.,  1.]]"
      ]
    },
    {
      "cell_type": "markdown",
      "metadata": {
        "id": "393LNCAH3Jqd"
      },
      "source": [
        "#### Go Through Documentation\n",
        "\n",
        "https://numpy.org/doc/stable/user/quickstart.html#the-basics"
      ]
    },
    {
      "cell_type": "code",
      "execution_count": 87,
      "metadata": {
        "id": "hasQQa25tMt3"
      },
      "outputs": [
        {
          "name": "stdout",
          "output_type": "stream",
          "text": [
            "[[ 0  1  2  3  4]\n",
            " [ 5  6  7  8  9]\n",
            " [10 11 12 13 14]]\n",
            "(3, 5)\n",
            "2\n",
            "int64\n",
            "<class 'numpy.ndarray'>\n"
          ]
        }
      ],
      "source": [
        "# TASK: Study and perform 3 different universal functions on v1\n",
        "n2=np.arange(15).reshape(3,5)\n",
        "print(n2)\n",
        "\n",
        "print(n2.shape)\n",
        "\n",
        "print(n2.ndim)\n",
        "\n",
        "print(n2.dtype)\n",
        "\n",
        "print(type(n2))"
      ]
    }
  ],
  "metadata": {
    "colab": {
      "provenance": []
    },
    "kernelspec": {
      "display_name": "Python 3",
      "name": "python3"
    },
    "language_info": {
      "codemirror_mode": {
        "name": "ipython",
        "version": 3
      },
      "file_extension": ".py",
      "mimetype": "text/x-python",
      "name": "python",
      "nbconvert_exporter": "python",
      "pygments_lexer": "ipython3",
      "version": "3.10.0"
    }
  },
  "nbformat": 4,
  "nbformat_minor": 0
}
